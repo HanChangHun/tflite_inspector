{
 "cells": [
  {
   "cell_type": "code",
   "execution_count": 1,
   "id": "753481fd-916b-4da1-92bf-6445517d1458",
   "metadata": {
    "execution": {
     "iopub.execute_input": "2021-09-29T04:03:26.769259Z",
     "iopub.status.busy": "2021-09-29T04:03:26.769080Z",
     "iopub.status.idle": "2021-09-29T04:03:26.955205Z",
     "shell.execute_reply": "2021-09-29T04:03:26.954761Z",
     "shell.execute_reply.started": "2021-09-29T04:03:26.769212Z"
    },
    "tags": []
   },
   "outputs": [],
   "source": [
    "from pathlib import Path\n",
    "\n",
    "import my_flatbuffers as flatbuffers\n",
    "import my_tflite as tflite\n",
    "from my_flatbuffers import encode\n",
    "from my_flatbuffers import number_types as N\n",
    "\n",
    "\n",
    "def get_buf(path):\n",
    "    with open(path, \"rb\") as f:\n",
    "        buf = f.read()\n",
    "    return buf\n",
    "\n",
    "\n",
    "def get_model(path):\n",
    "    model = tflite.Model.GetRootAsModel(get_buf(path), 0)\n",
    "    return model\n",
    "\n",
    "\n",
    "def get_metadata(path):\n",
    "    with open(path, \"rb\") as f:\n",
    "        buf = f.read()\n",
    "        metadata = tflite.Metadata.GetRootAsMetadata(buf, 0)\n",
    "    return metadata\n",
    "\n",
    "\n",
    "def print_buf(buf):\n",
    "    hex_str = buf.hex()\n",
    "    for i in range(0, len(hex_str), 16):\n",
    "        cur_hex = hex_str[i : i + 16]\n",
    "        n = 2\n",
    "        hex_list = []\n",
    "        for i in range(0, len(cur_hex), n):\n",
    "            hex_list.append(cur_hex[i : i + n])\n",
    "        front_2 = \"\".join(hex_list[:2])\n",
    "        front_4 = \"\".join(hex_list[2:4])\n",
    "        backward_2 = \"\".join(hex_list[4:6])\n",
    "        backward_4 = \"\".join(hex_list[6:])\n",
    "        print(f\"{front_2} {front_4} {backward_2} {backward_4}\")"
   ]
  },
  {
   "cell_type": "code",
   "execution_count": 2,
   "id": "5cbd26f8-b927-4679-92fe-9154ac4af764",
   "metadata": {
    "execution": {
     "iopub.execute_input": "2021-09-29T04:03:27.619078Z",
     "iopub.status.busy": "2021-09-29T04:03:27.618643Z",
     "iopub.status.idle": "2021-09-29T04:03:27.637625Z",
     "shell.execute_reply": "2021-09-29T04:03:27.637007Z",
     "shell.execute_reply.started": "2021-09-29T04:03:27.619029Z"
    },
    "tags": []
   },
   "outputs": [
    {
     "data": {
      "text/plain": [
       "3"
      ]
     },
     "execution_count": 2,
     "metadata": {},
     "output_type": "execute_result"
    }
   ],
   "source": [
    "fc1_path = Path(\"../HMSL-TPU-Desktop/3_tflite_analyze/models/temp/temp.tflite\")\n",
    "fc1_tpu_path = Path(\"../HMSL-TPU-Desktop/3_tflite_analyze/models/temp/temp_edgetpu.tflite\")\n",
    "\n",
    "fc1_model = get_model(fc1_path)\n",
    "fc1_tpu_model = get_model(fc1_tpu_path)\n",
    "\n",
    "fc1_model.Version()"
   ]
  },
  {
   "cell_type": "code",
   "execution_count": 6,
   "id": "c8b54179-a8ec-488c-8cb2-dd79fc86ce0b",
   "metadata": {
    "execution": {
     "iopub.execute_input": "2021-09-29T23:46:03.569060Z",
     "iopub.status.busy": "2021-09-29T23:46:03.568227Z",
     "iopub.status.idle": "2021-09-29T23:46:03.573547Z",
     "shell.execute_reply": "2021-09-29T23:46:03.573108Z",
     "shell.execute_reply.started": "2021-09-29T23:46:03.569012Z"
    },
    "tags": []
   },
   "outputs": [
    {
     "data": {
      "text/plain": [
       "'method'"
      ]
     },
     "execution_count": 6,
     "metadata": {},
     "output_type": "execute_result"
    }
   ],
   "source": []
  },
  {
   "cell_type": "code",
   "execution_count": null,
   "id": "33db332a-5355-46f2-861e-90b405da2e47",
   "metadata": {},
   "outputs": [],
   "source": []
  }
 ],
 "metadata": {
  "kernelspec": {
   "display_name": "Python 3 (ipykernel)",
   "language": "python",
   "name": "python3"
  },
  "language_info": {
   "codemirror_mode": {
    "name": "ipython",
    "version": 3
   },
   "file_extension": ".py",
   "mimetype": "text/x-python",
   "name": "python",
   "nbconvert_exporter": "python",
   "pygments_lexer": "ipython3",
   "version": "3.8.10"
  }
 },
 "nbformat": 4,
 "nbformat_minor": 5
}
